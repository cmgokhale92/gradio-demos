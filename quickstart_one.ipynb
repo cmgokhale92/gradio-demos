{
 "cells": [
  {
   "cell_type": "markdown",
   "metadata": {},
   "source": [
    "### Gradio\n",
    "\n",
    "Open-source python package that allows us to build quick UI for demos for ML model, API or any other python function.\n",
    "\n",
    "Allows link of the demo to be shared within few clicks.\n",
    "\n",
    "No JS, CSS or web hosting skills required.\n",
    "\n",
    "#### First app"
   ]
  },
  {
   "cell_type": "code",
   "execution_count": 1,
   "metadata": {},
   "outputs": [
    {
     "name": "stderr",
     "output_type": "stream",
     "text": [
      "d:\\Github\\gradio-demos\\venv\\lib\\site-packages\\tqdm\\auto.py:21: TqdmWarning: IProgress not found. Please update jupyter and ipywidgets. See https://ipywidgets.readthedocs.io/en/stable/user_install.html\n",
      "  from .autonotebook import tqdm as notebook_tqdm\n"
     ]
    },
    {
     "name": "stdout",
     "output_type": "stream",
     "text": [
      "* Running on local URL:  http://127.0.0.1:7860\n",
      "* To create a public link, set `share=True` in `launch()`.\n"
     ]
    },
    {
     "data": {
      "text/html": [
       "<div><iframe src=\"http://127.0.0.1:7860/\" width=\"100%\" height=\"500\" allow=\"autoplay; camera; microphone; clipboard-read; clipboard-write;\" frameborder=\"0\" allowfullscreen></iframe></div>"
      ],
      "text/plain": [
       "<IPython.core.display.HTML object>"
      ]
     },
     "metadata": {},
     "output_type": "display_data"
    },
    {
     "data": {
      "text/plain": []
     },
     "execution_count": 1,
     "metadata": {},
     "output_type": "execute_result"
    },
    {
     "name": "stdout",
     "output_type": "stream",
     "text": [
      "Created dataset file at: .gradio\\flagged\\dataset1.csv\n"
     ]
    }
   ],
   "source": [
    "import gradio as gr\n",
    "\n",
    "def greet(name, intensity):\n",
    "    return \"Hello, \" + name + \"!\" * int(intensity)\n",
    "\n",
    "demo = gr.Interface(\n",
    "    fn=greet,\n",
    "    inputs=[\"text\", \"slider\"],\n",
    "    outputs=[\"text\"]\n",
    ")\n",
    "\n",
    "demo.launch()"
   ]
  },
  {
   "cell_type": "markdown",
   "metadata": {},
   "source": [
    "#### What this does\n",
    "\n",
    "If running in the notebook, above code launches a basic app. The app is also hosted at localhost/7860 port.\n",
    "\n",
    "The idea is to prototype such apps and deploy with minimal time.\n",
    "\n",
    "#### Understanding the Interface class\n",
    "\n",
    "The **Interface** class used above is desgined to provide UI for machine learning models that take 1 or more inputs and give out 1 or more outputs.\n",
    "\n",
    "3 arguements\n",
    "1. fn : 'Submit' button enables running this function. fn is flexible (can accomodate many functions). Can also take in the *prediction* function of an ML model.\n",
    "2. inputs : *gradio components* to be used as inputs\n",
    "3. outputs : *gradio components* to be used as outputs\n",
    "\n",
    "Later we will see **gradio components**. There are 30 built-in. Ex: gr.TextBox(), gr.Image, gr.HTML etc.\n",
    "\n",
    "[Special series on building interfaces](https://www.gradio.app/main/guides/the-interface-class)\n",
    "\n",
    "#### start from SHARING YOUR DEMO\n",
    "\n"
   ]
  }
 ],
 "metadata": {
  "kernelspec": {
   "display_name": "venv",
   "language": "python",
   "name": "python3"
  },
  "language_info": {
   "codemirror_mode": {
    "name": "ipython",
    "version": 3
   },
   "file_extension": ".py",
   "mimetype": "text/x-python",
   "name": "python",
   "nbconvert_exporter": "python",
   "pygments_lexer": "ipython3",
   "version": "3.10.5"
  }
 },
 "nbformat": 4,
 "nbformat_minor": 2
}
