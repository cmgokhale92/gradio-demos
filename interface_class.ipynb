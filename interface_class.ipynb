{
 "cells": [
  {
   "cell_type": "markdown",
   "id": "c6eaad41",
   "metadata": {},
   "source": [
    "### The Interface class\n",
    "- Gradio components\n",
    "- Component attributes\n",
    "- Multiple input and output components\n",
    "- An Image example\n",
    "- Example inputs\n",
    "- Descriptive content\n",
    "- Additional inputs within an Accordion"
   ]
  },
  {
   "cell_type": "code",
   "execution_count": null,
   "id": "0c18130b",
   "metadata": {},
   "outputs": [],
   "source": [
    "import gradio as gr\n",
    "\n",
    "def greet(name, intensity):\n",
    "    return \"Hello, \" + name + \"!\" * int(intensity)\n",
    "\n",
    "demo = gr.Interface(\n",
    "    fn=greet,\n",
    "    inputs=[\"text\", \"slider\"],\n",
    "    outputs=[\"text\"]\n",
    ")\n",
    "\n",
    "demo.launch()"
   ]
  },
  {
   "cell_type": "markdown",
   "id": "c73d81b9",
   "metadata": {},
   "source": [
    "We see 3 **required fields** :\n",
    "- fn: UI is **wrapped around** this function.\n",
    "- inputs: Gradio input components (**# inpit components should match the arguements of the fn**)\n",
    "- output: Gradio output components (**should match # return values from fn**)\n",
    "\n",
    "### Gradio components\n",
    "\n",
    "More than 30 built-in components. Many custom community build components too.\n",
    "\n",
    "### Component attributes\n",
    "\n",
    "Above we used string shortcuts but to customize components we need to use corresponding python interfaces."
   ]
  },
  {
   "cell_type": "code",
   "execution_count": 2,
   "id": "8a0885f9",
   "metadata": {},
   "outputs": [
    {
     "name": "stdout",
     "output_type": "stream",
     "text": [
      "* Running on local URL:  http://127.0.0.1:7862\n",
      "* To create a public link, set `share=True` in `launch()`.\n"
     ]
    },
    {
     "data": {
      "text/html": [
       "<div><iframe src=\"http://127.0.0.1:7862/\" width=\"100%\" height=\"500\" allow=\"autoplay; camera; microphone; clipboard-read; clipboard-write;\" frameborder=\"0\" allowfullscreen></iframe></div>"
      ],
      "text/plain": [
       "<IPython.core.display.HTML object>"
      ]
     },
     "metadata": {},
     "output_type": "display_data"
    },
    {
     "data": {
      "text/plain": []
     },
     "execution_count": 2,
     "metadata": {},
     "output_type": "execute_result"
    }
   ],
   "source": [
    "import gradio as gr\n",
    "\n",
    "def greet(name, intensity):\n",
    "    a = \"Hello, \" + name + \"!\" * int(intensity) + \"\\n\"\n",
    "    b = a*3\n",
    "    return b\n",
    "\n",
    "demo = gr.Interface(\n",
    "    fn=greet,\n",
    "    inputs=[\"text\", gr.Slider(value=2, minimum=1, maximum=10, step=1)],\n",
    "    outputs=[gr.Textbox(label=\"greeting\", lines=3)],\n",
    ")\n",
    "\n",
    "demo.launch()"
   ]
  },
  {
   "cell_type": "markdown",
   "id": "1cecb591",
   "metadata": {},
   "source": [
    "#### gr.Slider\n",
    "* value - start value\n",
    "* minimum - min value for slider\n",
    "* maximum - max value for slider\n",
    "* step - slider steps\n",
    "\n",
    "#### gr.Textbox\n",
    "* lines - lines in the textbox that will be shown\n",
    "* label - Title of the box\n",
    "\n",
    "### Multiple input/output components\n",
    "\n",
    "Self-explanatory"
   ]
  },
  {
   "cell_type": "code",
   "execution_count": null,
   "id": "1cc9621f",
   "metadata": {},
   "outputs": [],
   "source": [
    "import gradio as gr\n",
    "\n",
    "def greet(name, is_morning, temperature):\n",
    "    salutation = \"Good morning\" if is_morning else \"Good evening\"\n",
    "    greeting = f\"{salutation} {name}. It is {temperature} degrees today\"\n",
    "    celsius = (temperature - 32) * 5 / 9\n",
    "    return greeting, round(celsius, 2)\n",
    "\n",
    "demo = gr.Interface(\n",
    "    fn=greet,\n",
    "    inputs=[\"text\", \"checkbox\", gr.Slider(0, 100)],\n",
    "    outputs=[\"text\", \"number\"],\n",
    ")\n",
    "demo.launch()\n"
   ]
  },
  {
   "cell_type": "markdown",
   "id": "1fb753ff",
   "metadata": {},
   "source": [
    "#### Shorthands\n",
    "\n",
    "* \"text\" - gr.Textbox\n",
    "* \"checkbox\" - gr.checkBox\n",
    "* \"number\" - \n",
    "\n",
    "Done till image example"
   ]
  },
  {
   "cell_type": "markdown",
   "id": "6f06f32e",
   "metadata": {},
   "source": []
  }
 ],
 "metadata": {
  "kernelspec": {
   "display_name": "gradio-demos",
   "language": "python",
   "name": "python3"
  },
  "language_info": {
   "codemirror_mode": {
    "name": "ipython",
    "version": 3
   },
   "file_extension": ".py",
   "mimetype": "text/x-python",
   "name": "python",
   "nbconvert_exporter": "python",
   "pygments_lexer": "ipython3",
   "version": "3.12.11"
  }
 },
 "nbformat": 4,
 "nbformat_minor": 5
}
