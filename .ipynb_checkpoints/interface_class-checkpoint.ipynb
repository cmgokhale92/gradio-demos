{
 "cells": [
  {
   "cell_type": "markdown",
   "id": "c6eaad41",
   "metadata": {},
   "source": [
    "### The Interface class\n",
    "- Gradio components\n",
    "- Component attributes\n",
    "- Multiple input and output components\n",
    "- An Image example\n",
    "- Example inputs\n",
    "- Descriptive content\n",
    "- Additional inputs within an Accordion"
   ]
  },
  {
   "cell_type": "code",
   "execution_count": null,
   "id": "0c18130b",
   "metadata": {},
   "outputs": [],
   "source": [
    "import gradio as gr\n",
    "\n",
    "def greet(name, intensity):\n",
    "    return \"Hello, \" + name + \"!\" * int(intensity)\n",
    "\n",
    "demo = gr.Interface(\n",
    "    fn=greet,\n",
    "    inputs=[\"text\", \"slider\"],\n",
    "    outputs=[\"text\"]\n",
    ")\n",
    "\n",
    "demo.launch()"
   ]
  },
  {
   "cell_type": "markdown",
   "id": "c73d81b9",
   "metadata": {},
   "source": [
    "We see 3 **required fields** :\n",
    "- fn: UI is **wrapped around** this function.\n",
    "- inputs: Gradio input components (**# input components should match the arguements of the fn**)\n",
    "- output: Gradio output components (**should match # return values from fn**)\n",
    "\n",
    "### Gradio components\n",
    "\n",
    "More than 30 built-in components. Many custom community build components too.\n",
    "\n",
    "### Component attributes\n",
    "\n",
    "Above we used string shortcuts but to customize components we need to use corresponding python interfaces."
   ]
  },
  {
   "cell_type": "code",
   "execution_count": 2,
   "id": "8a0885f9",
   "metadata": {},
   "outputs": [
    {
     "name": "stdout",
     "output_type": "stream",
     "text": [
      "* Running on local URL:  http://127.0.0.1:7862\n",
      "* To create a public link, set `share=True` in `launch()`.\n"
     ]
    },
    {
     "data": {
      "text/html": [
       "<div><iframe src=\"http://127.0.0.1:7862/\" width=\"100%\" height=\"500\" allow=\"autoplay; camera; microphone; clipboard-read; clipboard-write;\" frameborder=\"0\" allowfullscreen></iframe></div>"
      ],
      "text/plain": [
       "<IPython.core.display.HTML object>"
      ]
     },
     "metadata": {},
     "output_type": "display_data"
    },
    {
     "data": {
      "text/plain": []
     },
     "execution_count": 2,
     "metadata": {},
     "output_type": "execute_result"
    }
   ],
   "source": [
    "import gradio as gr\n",
    "\n",
    "def greet(name, intensity):\n",
    "    a = \"Hello, \" + name + \"!\" * int(intensity) + \"\\n\"\n",
    "    b = a*3\n",
    "    return b\n",
    "\n",
    "demo = gr.Interface(\n",
    "    fn=greet,\n",
    "    inputs=[\"text\", gr.Slider(value=2, minimum=1, maximum=10, step=1)],\n",
    "    outputs=[gr.Textbox(label=\"greeting\", lines=3)],\n",
    ")\n",
    "\n",
    "demo.launch()"
   ]
  },
  {
   "cell_type": "markdown",
   "id": "1cecb591",
   "metadata": {},
   "source": [
    "#### gr.Slider\n",
    "* value - start value\n",
    "* minimum - min value for slider\n",
    "* maximum - max value for slider\n",
    "* step - slider steps\n",
    "\n",
    "#### gr.Textbox\n",
    "* lines - lines in the textbox that will be shown\n",
    "* label - Title of the box\n",
    "\n",
    "### Multiple input/output components\n",
    "\n",
    "Self-explanatory"
   ]
  },
  {
   "cell_type": "code",
   "execution_count": null,
   "id": "1cc9621f",
   "metadata": {},
   "outputs": [],
   "source": [
    "import gradio as gr\n",
    "\n",
    "def greet(name, is_morning, temperature):\n",
    "    salutation = \"Good morning\" if is_morning else \"Good evening\"\n",
    "    greeting = f\"{salutation} {name}. It is {temperature} degrees today\"\n",
    "    celsius = (temperature - 32) * 5 / 9\n",
    "    return greeting, round(celsius, 2)\n",
    "\n",
    "demo = gr.Interface(\n",
    "    fn=greet,\n",
    "    inputs=[\"text\", \"checkbox\", gr.Slider(0, 100)],\n",
    "    outputs=[\"text\", \"number\"],\n",
    ")\n",
    "demo.launch()\n"
   ]
  },
  {
   "cell_type": "markdown",
   "id": "1fb753ff",
   "metadata": {},
   "source": [
    "#### Shorthands\n",
    "\n",
    "* \"text\" - gr.Textbox\n",
    "* \"checkbox\" - gr.checkBox\n",
    "* \"number\" - \n",
    "\n",
    "### An image example"
   ]
  },
  {
   "cell_type": "code",
   "execution_count": null,
   "id": "e048d4e0",
   "metadata": {},
   "outputs": [],
   "source": [
    "import numpy as np\n",
    "import gradio as gr\n",
    "\n",
    "def sepia(input_img):\n",
    "    sepia_filter = np.array([\n",
    "        [0.393, 0.769, 0.189],\n",
    "        [0.349, 0.686, 0.168],\n",
    "        [0.272, 0.534, 0.131]\n",
    "    ])\n",
    "    sepia_img = input_img.dot(sepia_filter.T)\n",
    "    sepia_img /= sepia_img.max()\n",
    "    return sepia_img\n",
    "\n",
    "demo = gr.Interface(sepia, gr.Image(), \"image\")\n",
    "demo.launch()\n",
    "    "
   ]
  },
  {
   "cell_type": "markdown",
   "id": "57177385-6d74-40a9-84ff-7684401b5f89",
   "metadata": {},
   "source": [
    "#### Note\n",
    "1. Above *input_img* will come in as an np.array of size (height, width, 3)\n",
    "2. Gradio will take care of converting the img to numpy array.\n",
    "3. You can also change the input type gradio is converting the image to by\n",
    "   - **gr.Image(type=)**"
   ]
  },
  {
   "cell_type": "markdown",
   "id": "3cef11c7-f696-4d4a-8fe7-3c06f4a28a63",
   "metadata": {},
   "source": [
    "### EXAMPLE DATA\n",
    "\n",
    "For quick testing of your Interface, you can use **examples** arguement as below.\n",
    "\n",
    "[More on examples at](https://www.gradio.app/guides/more-on-examples)"
   ]
  },
  {
   "cell_type": "code",
   "execution_count": 2,
   "id": "b19cc197-ceaf-4b30-844c-ec8d8502f8f5",
   "metadata": {},
   "outputs": [
    {
     "name": "stdout",
     "output_type": "stream",
     "text": [
      "* Running on local URL:  http://127.0.0.1:7860\n",
      "* To create a public link, set `share=True` in `launch()`.\n"
     ]
    },
    {
     "data": {
      "text/html": [
       "<div><iframe src=\"http://127.0.0.1:7860/\" width=\"100%\" height=\"500\" allow=\"autoplay; camera; microphone; clipboard-read; clipboard-write;\" frameborder=\"0\" allowfullscreen></iframe></div>"
      ],
      "text/plain": [
       "<IPython.core.display.HTML object>"
      ]
     },
     "metadata": {},
     "output_type": "display_data"
    },
    {
     "data": {
      "text/plain": []
     },
     "execution_count": 2,
     "metadata": {},
     "output_type": "execute_result"
    }
   ],
   "source": [
    "import gradio as gr\n",
    "\n",
    "def calculator(num1, operation, num2):\n",
    "    if operation==\"add\":\n",
    "        return num1 + num2\n",
    "    elif operation==\"subtract\":\n",
    "        return num1 - num2\n",
    "    elif operation==\"multiply\":\n",
    "        return num1 * num2\n",
    "    elif operation==\"divide\":\n",
    "        if num2 == 0:\n",
    "            raise gr.Error(\"Cannot divide by zero!\")\n",
    "        else:\n",
    "            return num1 / num2\n",
    "\n",
    "my_interface = gr.Interface(fn=calculator,\n",
    "                            inputs=[\"number\", gr.Radio([\"add\", \"subtract\", \"multiply\", \"divide\"]), \"number\"],\n",
    "                            outputs=[\"number\"],\n",
    "                            examples=[\n",
    "                                [500, \"divide\", 5],\n",
    "                                [400, \"add\", 2],\n",
    "                                [3.14, \"multiply\", 2],\n",
    "                                [200, \"subtract\", 55]\n",
    "                            ],\n",
    "                            title=\"Chaitanya's calculator\",\n",
    "                            description=\"Basic calculator - nothing special\"\n",
    ")\n",
    "\n",
    "my_interface.launch()"
   ]
  },
  {
   "cell_type": "markdown",
   "id": "d3d79367-2a3a-45fe-86cb-8e1fba945bc0",
   "metadata": {},
   "source": [
    "### DESCRIPTIONS\n",
    "\n",
    "gr.Interface has a few arguements using which we can add description to our fields\n",
    "1. title : gr.Interface arguement. Text only.\n",
    "   - Placement : Right at the top\n",
    "2. description : gr.Interface arguement - accepts HTML, Markdown or text.\n",
    "   - Placement : Under the title\n",
    "3. article : same as description\n",
    "   - Placement : Before the interface ends"
   ]
  },
  {
   "cell_type": "code",
   "execution_count": 8,
   "id": "49deddc8-5f6a-4cee-a920-fb1ee1bc2faa",
   "metadata": {},
   "outputs": [
    {
     "name": "stdout",
     "output_type": "stream",
     "text": [
      "* Running on local URL:  http://127.0.0.1:7864\n",
      "* To create a public link, set `share=True` in `launch()`.\n"
     ]
    },
    {
     "data": {
      "text/html": [
       "<div><iframe src=\"http://127.0.0.1:7864/\" width=\"100%\" height=\"500\" allow=\"autoplay; camera; microphone; clipboard-read; clipboard-write;\" frameborder=\"0\" allowfullscreen></iframe></div>"
      ],
      "text/plain": [
       "<IPython.core.display.HTML object>"
      ]
     },
     "metadata": {},
     "output_type": "display_data"
    },
    {
     "data": {
      "text/plain": []
     },
     "execution_count": 8,
     "metadata": {},
     "output_type": "execute_result"
    }
   ],
   "source": [
    "import gradio as gr\n",
    "\n",
    "def calculator(num1, operation, num2):\n",
    "    if operation==\"add\":\n",
    "        return num1 + num2\n",
    "    elif operation==\"subtract\":\n",
    "        return num1 - num2\n",
    "    elif operation==\"multiply\":\n",
    "        return num1 * num2\n",
    "    elif operation==\"divide\":\n",
    "        if num2 == 0:\n",
    "            raise gr.Error(\"Cannot divide by zero!\")\n",
    "        else:\n",
    "            return num1 / num2\n",
    "\n",
    "my_interface = gr.Interface(fn=calculator,\n",
    "                            inputs=[\"number\", gr.Radio([\"add\", \"subtract\", \"multiply\", \"divide\"]), \"number\"],\n",
    "                            outputs=[\"number\"],\n",
    "                            examples=[\n",
    "                                [500, \"divide\", 5],\n",
    "                                [400, \"add\", 2],\n",
    "                                [3.14, \"multiply\", 2],\n",
    "                                [200, \"subtract\", 55]\n",
    "                            ],\n",
    "                            title=\"<h1 style='font-family: Arial, sans-serif; font-size: 28px; font-weight: bold; \\\n",
    "                            color: #2c3e50; text-align: center; margin-top: 20px;'>\\\n",
    "  Chaitanyas calculator </h1>\",\n",
    "                            description=\"Basic calculator - nothing special\",\n",
    "                            article=\"<h1 style='font-family: Arial, sans-serif; font-size: 28px; font-weight: bold; \\\n",
    "                            color: #2c3e50; text-align: center; margin-top: 20px;'>\\\n",
    "  Chaitanyas calculator </h1>\"\n",
    ")\n",
    "\n",
    "my_interface.launch()"
   ]
  },
  {
   "cell_type": "markdown",
   "id": "65de7afc-9f7c-466e-9e1a-06f09f2500a5",
   "metadata": {},
   "source": [
    "#### No CSS only HTML\n",
    "\n",
    "Above I tried to use CSS too along with HTML but CSS is not working right off the bat.\n",
    "\n",
    "#### Label & Info\n",
    "\n",
    "* label= -> provided for each component.\n",
    "* info= -> not in each component - provides additional comment about the usage of the component."
   ]
  },
  {
   "cell_type": "code",
   "execution_count": null,
   "id": "3523fe5d-2f1b-409b-b953-31a950ded5d6",
   "metadata": {},
   "outputs": [],
   "source": []
  }
 ],
 "metadata": {
  "kernelspec": {
   "display_name": "Python 3 (ipykernel)",
   "language": "python",
   "name": "python3"
  },
  "language_info": {
   "codemirror_mode": {
    "name": "ipython",
    "version": 3
   },
   "file_extension": ".py",
   "mimetype": "text/x-python",
   "name": "python",
   "nbconvert_exporter": "python",
   "pygments_lexer": "ipython3",
   "version": "3.12.11"
  }
 },
 "nbformat": 4,
 "nbformat_minor": 5
}
